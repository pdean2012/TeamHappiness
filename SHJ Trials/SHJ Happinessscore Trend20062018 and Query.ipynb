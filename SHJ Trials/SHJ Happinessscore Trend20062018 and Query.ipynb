{
 "cells": [
  {
   "cell_type": "code",
   "execution_count": 1,
   "metadata": {},
   "outputs": [],
   "source": [
    "import pandas as pd\n",
    "import matplotlib.pyplot as plt\n",
    "import numpy as np\n",
    "import scipy.stats as stats"
   ]
  },
  {
   "cell_type": "code",
   "execution_count": 2,
   "metadata": {},
   "outputs": [],
   "source": [
    "import warnings\n",
    "warnings.filterwarnings('ignore')"
   ]
  },
  {
   "cell_type": "code",
   "execution_count": 3,
   "metadata": {},
   "outputs": [
    {
     "data": {
      "text/html": [
       "<div>\n",
       "<style scoped>\n",
       "    .dataframe tbody tr th:only-of-type {\n",
       "        vertical-align: middle;\n",
       "    }\n",
       "\n",
       "    .dataframe tbody tr th {\n",
       "        vertical-align: top;\n",
       "    }\n",
       "\n",
       "    .dataframe thead th {\n",
       "        text-align: right;\n",
       "    }\n",
       "</style>\n",
       "<table border=\"1\" class=\"dataframe\">\n",
       "  <thead>\n",
       "    <tr style=\"text-align: right;\">\n",
       "      <th></th>\n",
       "      <th>Country</th>\n",
       "      <th>Year</th>\n",
       "      <th>Score</th>\n",
       "    </tr>\n",
       "  </thead>\n",
       "  <tbody>\n",
       "    <tr>\n",
       "      <th>0</th>\n",
       "      <td>Afghanistan</td>\n",
       "      <td>2008</td>\n",
       "      <td>3.723590</td>\n",
       "    </tr>\n",
       "    <tr>\n",
       "      <th>1</th>\n",
       "      <td>Afghanistan</td>\n",
       "      <td>2009</td>\n",
       "      <td>4.401778</td>\n",
       "    </tr>\n",
       "    <tr>\n",
       "      <th>2</th>\n",
       "      <td>Afghanistan</td>\n",
       "      <td>2010</td>\n",
       "      <td>4.758381</td>\n",
       "    </tr>\n",
       "    <tr>\n",
       "      <th>3</th>\n",
       "      <td>Afghanistan</td>\n",
       "      <td>2011</td>\n",
       "      <td>3.831719</td>\n",
       "    </tr>\n",
       "    <tr>\n",
       "      <th>4</th>\n",
       "      <td>Afghanistan</td>\n",
       "      <td>2012</td>\n",
       "      <td>3.782938</td>\n",
       "    </tr>\n",
       "  </tbody>\n",
       "</table>\n",
       "</div>"
      ],
      "text/plain": [
       "       Country  Year     Score\n",
       "0  Afghanistan  2008  3.723590\n",
       "1  Afghanistan  2009  4.401778\n",
       "2  Afghanistan  2010  4.758381\n",
       "3  Afghanistan  2011  3.831719\n",
       "4  Afghanistan  2012  3.782938"
      ]
     },
     "execution_count": 3,
     "metadata": {},
     "output_type": "execute_result"
    }
   ],
   "source": [
    "wholedata = pd.read_csv(\"HappinessScore_SHJ.csv\")\n",
    "wholedata.head()"
   ]
  },
  {
   "cell_type": "code",
   "execution_count": 4,
   "metadata": {},
   "outputs": [
    {
     "data": {
      "text/plain": [
       "Country    1704\n",
       "Year       1704\n",
       "Score      1704\n",
       "dtype: int64"
      ]
     },
     "execution_count": 4,
     "metadata": {},
     "output_type": "execute_result"
    }
   ],
   "source": [
    "wholedata.count()"
   ]
  },
  {
   "cell_type": "code",
   "execution_count": 5,
   "metadata": {},
   "outputs": [
    {
     "data": {
      "text/plain": [
       "Country     object\n",
       "Year         int64\n",
       "Score      float64\n",
       "dtype: object"
      ]
     },
     "execution_count": 5,
     "metadata": {},
     "output_type": "execute_result"
    }
   ],
   "source": [
    "wholedata.dtypes"
   ]
  },
  {
   "cell_type": "code",
   "execution_count": 6,
   "metadata": {},
   "outputs": [
    {
     "data": {
      "text/html": [
       "<div>\n",
       "<style scoped>\n",
       "    .dataframe tbody tr th:only-of-type {\n",
       "        vertical-align: middle;\n",
       "    }\n",
       "\n",
       "    .dataframe tbody tr th {\n",
       "        vertical-align: top;\n",
       "    }\n",
       "\n",
       "    .dataframe thead th {\n",
       "        text-align: right;\n",
       "    }\n",
       "</style>\n",
       "<table border=\"1\" class=\"dataframe\">\n",
       "  <thead>\n",
       "    <tr style=\"text-align: right;\">\n",
       "      <th></th>\n",
       "      <th>Country</th>\n",
       "      <th>Year</th>\n",
       "      <th>Score</th>\n",
       "    </tr>\n",
       "  </thead>\n",
       "  <tbody>\n",
       "    <tr>\n",
       "      <th>10</th>\n",
       "      <td>Afghanistan</td>\n",
       "      <td>2018</td>\n",
       "      <td>2.694303</td>\n",
       "    </tr>\n",
       "    <tr>\n",
       "      <th>21</th>\n",
       "      <td>Albania</td>\n",
       "      <td>2018</td>\n",
       "      <td>5.004403</td>\n",
       "    </tr>\n",
       "    <tr>\n",
       "      <th>28</th>\n",
       "      <td>Algeria</td>\n",
       "      <td>2018</td>\n",
       "      <td>5.043086</td>\n",
       "    </tr>\n",
       "    <tr>\n",
       "      <th>45</th>\n",
       "      <td>Argentina</td>\n",
       "      <td>2018</td>\n",
       "      <td>5.792797</td>\n",
       "    </tr>\n",
       "    <tr>\n",
       "      <th>58</th>\n",
       "      <td>Armenia</td>\n",
       "      <td>2018</td>\n",
       "      <td>5.062449</td>\n",
       "    </tr>\n",
       "  </tbody>\n",
       "</table>\n",
       "</div>"
      ],
      "text/plain": [
       "        Country  Year     Score\n",
       "10  Afghanistan  2018  2.694303\n",
       "21      Albania  2018  5.004403\n",
       "28      Algeria  2018  5.043086\n",
       "45    Argentina  2018  5.792797\n",
       "58      Armenia  2018  5.062449"
      ]
     },
     "execution_count": 6,
     "metadata": {},
     "output_type": "execute_result"
    }
   ],
   "source": [
    "newdata = wholedata.loc[wholedata[\"Year\"]==2018]\n",
    "newdata.head()"
   ]
  },
  {
   "cell_type": "code",
   "execution_count": 7,
   "metadata": {},
   "outputs": [],
   "source": [
    "# Yearly Change of World Average vs Canada (2006 - 2018)"
   ]
  },
  {
   "cell_type": "code",
   "execution_count": 8,
   "metadata": {},
   "outputs": [
    {
     "name": "stdout",
     "output_type": "stream",
     "text": [
      "[5.196935289348313, 5.418291402794117, 5.418553961427273, 5.4576401271403485, 5.496782154798385, 5.424087842856165, 5.4437505493873255, 5.394567931678834, 5.3890233697655185, 5.404036578629374, 5.399414284070423, 5.460421472986393, 5.502134340683824]\n"
     ]
    }
   ],
   "source": [
    "avrghappiness = []\n",
    "\n",
    "years = [2006, 2007, 2008, 2009, 2010, 2011, 2012, 2013, 2014, 2015, 2016, 2017, 2018]\n",
    "\n",
    "for year in years:\n",
    "    yeardata = wholedata.loc[wholedata[\"Year\"]==year]\n",
    "    avrgscore = yeardata[\"Score\"].mean()\n",
    "    avrghappiness.append(avrgscore)\n",
    "\n",
    "print(avrghappiness)\n"
   ]
  },
  {
   "cell_type": "code",
   "execution_count": 10,
   "metadata": {},
   "outputs": [
    {
     "data": {
      "text/html": [
       "<div>\n",
       "<style scoped>\n",
       "    .dataframe tbody tr th:only-of-type {\n",
       "        vertical-align: middle;\n",
       "    }\n",
       "\n",
       "    .dataframe tbody tr th {\n",
       "        vertical-align: top;\n",
       "    }\n",
       "\n",
       "    .dataframe thead th {\n",
       "        text-align: right;\n",
       "    }\n",
       "</style>\n",
       "<table border=\"1\" class=\"dataframe\">\n",
       "  <thead>\n",
       "    <tr style=\"text-align: right;\">\n",
       "      <th></th>\n",
       "      <th>Country</th>\n",
       "      <th>Year</th>\n",
       "      <th>Score</th>\n",
       "    </tr>\n",
       "  </thead>\n",
       "  <tbody>\n",
       "    <tr>\n",
       "      <th>258</th>\n",
       "      <td>Canada</td>\n",
       "      <td>2005</td>\n",
       "      <td>7.418048</td>\n",
       "    </tr>\n",
       "    <tr>\n",
       "      <th>259</th>\n",
       "      <td>Canada</td>\n",
       "      <td>2007</td>\n",
       "      <td>7.481753</td>\n",
       "    </tr>\n",
       "    <tr>\n",
       "      <th>260</th>\n",
       "      <td>Canada</td>\n",
       "      <td>2008</td>\n",
       "      <td>7.485604</td>\n",
       "    </tr>\n",
       "    <tr>\n",
       "      <th>261</th>\n",
       "      <td>Canada</td>\n",
       "      <td>2009</td>\n",
       "      <td>7.487824</td>\n",
       "    </tr>\n",
       "    <tr>\n",
       "      <th>262</th>\n",
       "      <td>Canada</td>\n",
       "      <td>2010</td>\n",
       "      <td>7.650346</td>\n",
       "    </tr>\n",
       "  </tbody>\n",
       "</table>\n",
       "</div>"
      ],
      "text/plain": [
       "    Country  Year     Score\n",
       "258  Canada  2005  7.418048\n",
       "259  Canada  2007  7.481753\n",
       "260  Canada  2008  7.485604\n",
       "261  Canada  2009  7.487824\n",
       "262  Canada  2010  7.650346"
      ]
     },
     "execution_count": 10,
     "metadata": {},
     "output_type": "execute_result"
    }
   ],
   "source": [
    "canadadata = wholedata.loc[wholedata[\"Country\"]==\"Canada\"]\n",
    "canadadata.head()"
   ]
  },
  {
   "cell_type": "code",
   "execution_count": 17,
   "metadata": {},
   "outputs": [
    {
     "data": {
      "image/png": "[encoded data removed]",
      "text/plain": [
       "<Figure size 432x288 with 1 Axes>"
      ]
     },
     "metadata": {
      "needs_background": "light"
     },
     "output_type": "display_data"
    }
   ],
   "source": [
    "years = [2006, 2007, 2008, 2009, 2010, 2011, 2012, 2013, 2014, 2015, 2016, 2017, 2018]\n",
    "\n",
    "ticklocations = [value+0.4 for value in years]\n",
    "\n",
    "plt.plot(years, canadadata[\"Score\"], color=\"red\", marker=\"o\", alpha=0.5, linewidth=2, label=\"Canada\")\n",
    "plt.plot(years, avrghappiness, color=\"blue\", marker=\"s\", alpha=0.5, linewidth=2, label=\"World Average\")\n",
    "\n",
    "plt.legend(loc=\"best\")\n",
    "plt.title(\"Happiness Level Trend\")\n",
    "plt.xlabel(\"Year\")\n",
    "plt.ylabel(\"Happiness Score\")\n",
    "\n",
    "plt.grid()\n",
    "plt.savefig(\"happinesstrend20062018-canada\" )\n",
    "\n",
    "plt.show()\n"
   ]
  },
  {
   "cell_type": "code",
   "execution_count": 18,
   "metadata": {},
   "outputs": [],
   "source": [
    "# Yearly Change of World Average vs A Specific Country from Query (2006 - 2018)"
   ]
  },
  {
   "cell_type": "code",
   "execution_count": 19,
   "metadata": {},
   "outputs": [
    {
     "name": "stdout",
     "output_type": "stream",
     "text": [
      "Which country do you want to know?South Korea\n"
     ]
    }
   ],
   "source": [
    "countryname = input(\"Which country do you want to know?\")"
   ]
  },
  {
   "cell_type": "code",
   "execution_count": 20,
   "metadata": {},
   "outputs": [
    {
     "data": {
      "text/html": [
       "<div>\n",
       "<style scoped>\n",
       "    .dataframe tbody tr th:only-of-type {\n",
       "        vertical-align: middle;\n",
       "    }\n",
       "\n",
       "    .dataframe tbody tr th {\n",
       "        vertical-align: top;\n",
       "    }\n",
       "\n",
       "    .dataframe thead th {\n",
       "        text-align: right;\n",
       "    }\n",
       "</style>\n",
       "<table border=\"1\" class=\"dataframe\">\n",
       "  <thead>\n",
       "    <tr style=\"text-align: right;\">\n",
       "      <th></th>\n",
       "      <th>Country</th>\n",
       "      <th>Year</th>\n",
       "      <th>Score</th>\n",
       "    </tr>\n",
       "  </thead>\n",
       "  <tbody>\n",
       "    <tr>\n",
       "      <th>1382</th>\n",
       "      <td>South Korea</td>\n",
       "      <td>2006</td>\n",
       "      <td>5.332178</td>\n",
       "    </tr>\n",
       "    <tr>\n",
       "      <th>1383</th>\n",
       "      <td>South Korea</td>\n",
       "      <td>2007</td>\n",
       "      <td>5.767276</td>\n",
       "    </tr>\n",
       "    <tr>\n",
       "      <th>1384</th>\n",
       "      <td>South Korea</td>\n",
       "      <td>2008</td>\n",
       "      <td>5.389625</td>\n",
       "    </tr>\n",
       "    <tr>\n",
       "      <th>1385</th>\n",
       "      <td>South Korea</td>\n",
       "      <td>2009</td>\n",
       "      <td>5.647690</td>\n",
       "    </tr>\n",
       "    <tr>\n",
       "      <th>1386</th>\n",
       "      <td>South Korea</td>\n",
       "      <td>2010</td>\n",
       "      <td>6.116024</td>\n",
       "    </tr>\n",
       "  </tbody>\n",
       "</table>\n",
       "</div>"
      ],
      "text/plain": [
       "          Country  Year     Score\n",
       "1382  South Korea  2006  5.332178\n",
       "1383  South Korea  2007  5.767276\n",
       "1384  South Korea  2008  5.389625\n",
       "1385  South Korea  2009  5.647690\n",
       "1386  South Korea  2010  6.116024"
      ]
     },
     "execution_count": 20,
     "metadata": {},
     "output_type": "execute_result"
    }
   ],
   "source": [
    "countrydata = wholedata.loc[wholedata[\"Country\"]==countryname]\n",
    "countrydata.head()\n"
   ]
  },
  {
   "cell_type": "code",
   "execution_count": 22,
   "metadata": {},
   "outputs": [
    {
     "data": {
      "image/png": "[encoded data removed]",
      "text/plain": [
       "<Figure size 432x288 with 1 Axes>"
      ]
     },
     "metadata": {
      "needs_background": "light"
     },
     "output_type": "display_data"
    }
   ],
   "source": [
    "years = [2006, 2007, 2008, 2009, 2010, 2011, 2012, 2013, 2014, 2015, 2016, 2017, 2018]\n",
    "\n",
    "ticklocations = [value+0.4 for value in years]\n",
    "\n",
    "plt.plot(years, countrydata[\"Score\"], color=\"gold\", marker=\"d\", alpha=0.5, linewidth=2, label=countryname)\n",
    "plt.plot(years, avrghappiness, color=\"blue\", marker=\"s\", alpha=0.5, linewidth=2, label=\"World Average\")\n",
    "plt.plot(years, canadadata[\"Score\"], color=\"red\", marker=\"o\", alpha=0.5, linewidth=2, label=\"Canada\")\n",
    "\n",
    "plt.legend(loc=\"best\")\n",
    "plt.title(\"Happiness Level Trend\")\n",
    "plt.xlabel(\"Year\")\n",
    "plt.ylabel(\"Happiness Score\")\n",
    "\n",
    "plt.grid()\n",
    "plt.savefig(\"happinesstrend20062018_query\" )\n",
    "\n",
    "plt.show()\n"
   ]
  },
  {
   "cell_type": "code",
   "execution_count": 23,
   "metadata": {},
   "outputs": [],
   "source": [
    "# Yearly Happiness Scores - Boxplot (2006 - 2018)"
   ]
  },
  {
   "cell_type": "code",
   "execution_count": 24,
   "metadata": {},
   "outputs": [
    {
     "data": {
      "text/plain": [
       "Country    1677\n",
       "Year       1677\n",
       "Score      1677\n",
       "dtype: int64"
      ]
     },
     "execution_count": 24,
     "metadata": {},
     "output_type": "execute_result"
    }
   ],
   "source": [
    "newwholedata = wholedata.loc[wholedata[\"Year\"]!=2005]\n",
    "newwholedata.count()"
   ]
  },
  {
   "cell_type": "code",
   "execution_count": 25,
   "metadata": {},
   "outputs": [
    {
     "data": {
      "image/png": "[encoded data removed]",
      "text/plain": [
       "<Figure size 1440x720 with 1 Axes>"
      ]
     },
     "metadata": {
      "needs_background": "light"
     },
     "output_type": "display_data"
    }
   ],
   "source": [
    "newwholedata.boxplot(\"Score\", by=\"Year\", figsize=(20,10))\n",
    "\n",
    "plt.savefig(\"boxplot20062018\")"
   ]
  },
  {
   "cell_type": "code",
   "execution_count": 27,
   "metadata": {},
   "outputs": [],
   "source": [
    "# Why Not ANOVA?? "
   ]
  },
  {
   "cell_type": "code",
   "execution_count": 28,
   "metadata": {},
   "outputs": [],
   "source": [
    "year2006 = newwholedata.loc[newwholedata[\"Year\"]==2006][\"Score\"]\n",
    "year2007 = newwholedata.loc[newwholedata[\"Year\"]==2007][\"Score\"]\n",
    "year2008 = newwholedata.loc[newwholedata[\"Year\"]==2008][\"Score\"]\n",
    "year2009 = newwholedata.loc[newwholedata[\"Year\"]==2009][\"Score\"]\n",
    "year2010 = newwholedata.loc[newwholedata[\"Year\"]==20010][\"Score\"]\n",
    "year2011 = newwholedata.loc[newwholedata[\"Year\"]==20011][\"Score\"]\n",
    "year2012 = newwholedata.loc[newwholedata[\"Year\"]==20012][\"Score\"]\n",
    "year2013 = newwholedata.loc[newwholedata[\"Year\"]==20013][\"Score\"]\n",
    "year2014 = newwholedata.loc[newwholedata[\"Year\"]==20014][\"Score\"]\n",
    "year2015 = newwholedata.loc[newwholedata[\"Year\"]==20015][\"Score\"]\n",
    "year2016 = newwholedata.loc[newwholedata[\"Year\"]==20016][\"Score\"]\n",
    "year2017 = newwholedata.loc[newwholedata[\"Year\"]==20017][\"Score\"]\n",
    "year2018 = newwholedata.loc[newwholedata[\"Year\"]==20018][\"Score\"]\n"
   ]
  },
  {
   "cell_type": "code",
   "execution_count": 29,
   "metadata": {},
   "outputs": [
    {
     "data": {
      "text/plain": [
       "33     6.312925\n",
       "46     4.289311\n",
       "71     7.122211\n",
       "82     4.727871\n",
       "104    4.318909\n",
       "Name: Score, dtype: float64"
      ]
     },
     "execution_count": 29,
     "metadata": {},
     "output_type": "execute_result"
    }
   ],
   "source": [
    "year2006.head()"
   ]
  },
  {
   "cell_type": "code",
   "execution_count": 30,
   "metadata": {},
   "outputs": [
    {
     "data": {
      "text/plain": [
       "89"
      ]
     },
     "execution_count": 30,
     "metadata": {},
     "output_type": "execute_result"
    }
   ],
   "source": [
    "len(year2006)"
   ]
  },
  {
   "cell_type": "code",
   "execution_count": 34,
   "metadata": {},
   "outputs": [
    {
     "data": {
      "text/plain": [
       "F_onewayResult(statistic=1.1242406701774106, pvalue=0.3389648360791173)"
      ]
     },
     "execution_count": 34,
     "metadata": {},
     "output_type": "execute_result"
    }
   ],
   "source": [
    "stats.f_oneway(year2006, year2007, year2008, year2009)"
   ]
  },
  {
   "cell_type": "code",
   "execution_count": null,
   "metadata": {},
   "outputs": [],
   "source": []
  }
 ],
 "metadata": {
  "kernelspec": {
   "display_name": "Python 3",
   "language": "python",
   "name": "python3"
  },
  "language_info": {
   "codemirror_mode": {
    "name": "ipython",
    "version": 3
   },
   "file_extension": ".py",
   "mimetype": "text/x-python",
   "name": "python",
   "nbconvert_exporter": "python",
   "pygments_lexer": "ipython3",
   "version": "3.7.3"
  }
 },
 "nbformat": 4,
 "nbformat_minor": 2
}
